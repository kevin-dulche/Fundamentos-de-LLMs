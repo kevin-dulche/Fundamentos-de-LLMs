{
 "cells": [
  {
   "cell_type": "code",
   "execution_count": 1,
   "id": "dfa0354c",
   "metadata": {},
   "outputs": [],
   "source": [
    "import torch\n",
    "import torch.nn as nn\n",
    "import torch.optim as optim\n",
    "import torch.nn.functional as F\n",
    "import time"
   ]
  },
  {
   "cell_type": "code",
   "execution_count": 2,
   "id": "d58b11c1",
   "metadata": {},
   "outputs": [],
   "source": [
    "# Creamos una clase del modelo\n",
    "class MLP(nn.Module):\n",
    "    def __init__(self, input_dim, hidden_dim, output_dim):\n",
    "        super(MLP, self).__init__()\n",
    "        self.fc1 = nn.Linear(input_dim, hidden_dim)\n",
    "        self.fc2 = nn.Linear(hidden_dim, output_dim)\n",
    "\n",
    "    def forward(self, x):\n",
    "        x = F.relu(self.fc1(x))\n",
    "        x = self.fc2(x)\n",
    "        return x"
   ]
  },
  {
   "cell_type": "code",
   "execution_count": 3,
   "id": "e2ae9254",
   "metadata": {},
   "outputs": [],
   "source": [
    "# Instanciamos el modelo\n",
    "model = MLP(\n",
    "    input_dim=10, # Neuronas de entrada\n",
    "    hidden_dim=32, # Neuronas en la capa oculta\n",
    "    output_dim=1 # Neuronas de salida\n",
    "    )"
   ]
  },
  {
   "cell_type": "code",
   "execution_count": 4,
   "id": "08b6f382",
   "metadata": {},
   "outputs": [],
   "source": [
    "# Definimos pérdida y optimmizador\n",
    "criterion = nn.MSELoss()\n",
    "optimizer = optim.Adam(model.parameters(), lr=0.01)"
   ]
  },
  {
   "cell_type": "code",
   "execution_count": 5,
   "id": "afa1aea9",
   "metadata": {},
   "outputs": [],
   "source": [
    "#  Ejemplo de datos ficticios\n",
    "x = torch.randn(2000000, 10) # 2000000 muestras 10 features\n",
    "y = torch.randn(2000000, 1) # 2000000 muestras 1 feature"
   ]
  },
  {
   "cell_type": "code",
   "execution_count": 6,
   "id": "6770a2f8",
   "metadata": {},
   "outputs": [
    {
     "name": "stdout",
     "output_type": "stream",
     "text": [
      "Pérdida: 1.0693960189819336\n",
      "Tiempo de entrenamiento: 0.262280 segundos\n"
     ]
    }
   ],
   "source": [
    "start_time = time.time()\n",
    "# Forward + Backward\n",
    "model.train()\n",
    "optimizer.zero_grad()\n",
    "output = model(x)\n",
    "loss = criterion(output, y)\n",
    "loss.backward()\n",
    "optimizer.step()\n",
    "end_time = time.time()\n",
    "elapsed = end_time - start_time\n",
    "\n",
    "print(\"Pérdida:\", loss.item())\n",
    "print(f\"Tiempo de entrenamiento: {elapsed:.6f} segundos\")"
   ]
  },
  {
   "cell_type": "markdown",
   "id": "654a5743",
   "metadata": {},
   "source": [
    "## Si podemos usar GPU"
   ]
  },
  {
   "cell_type": "code",
   "execution_count": 7,
   "id": "8c9ea9cc",
   "metadata": {},
   "outputs": [
    {
     "name": "stdout",
     "output_type": "stream",
     "text": [
      "Usando dispositivo: cpu\n"
     ]
    }
   ],
   "source": [
    "# Seleccionamos el dispositivo: GPU si está disponible, sino CPU\n",
    "device = torch.device(\"cuda\" if torch.cuda.is_available() else \"cpu\")\n",
    "print(f\"Usando dispositivo: {device}\")"
   ]
  },
  {
   "cell_type": "code",
   "execution_count": null,
   "id": "e8bb92ca",
   "metadata": {},
   "outputs": [],
   "source": [
    "# Definimos la clase del modelo MLP\n",
    "class MLP(nn.Module):\n",
    "    def __init__(self, input_dim, hidden_dim, output_dim):\n",
    "        super(MLP, self).__init__()\n",
    "        self.fc1 = nn.Linear(input_dim, hidden_dim)\n",
    "        self.fc2 = nn.Linear(hidden_dim, output_dim)\n",
    "\n",
    "    def forward(self, x):\n",
    "        x = F.relu(self.fc1(x))\n",
    "        x = self.fc2(x)\n",
    "        return x"
   ]
  },
  {
   "cell_type": "code",
   "execution_count": null,
   "id": "f377fadb",
   "metadata": {},
   "outputs": [],
   "source": [
    "# Instanciamos el modelo\n",
    "model = MLP(\n",
    "    input_dim=10, # Neuronas de entrada\n",
    "    hidden_dim=32, # Neuronas en la capa oculta\n",
    "    output_dim=1 # Neuronas de salida\n",
    "    ).to(device) # Movemos el modelo al dispositivo seleccionado"
   ]
  },
  {
   "cell_type": "code",
   "execution_count": null,
   "id": "93c8ef8d",
   "metadata": {},
   "outputs": [],
   "source": [
    "# Definimos pérdida y optimmizador\n",
    "criterion = nn.MSELoss()\n",
    "optimizer = optim.Adam(model.parameters(), lr=0.01)"
   ]
  },
  {
   "cell_type": "code",
   "execution_count": null,
   "id": "90f24010",
   "metadata": {},
   "outputs": [],
   "source": [
    "torch.cuda.empty_cache() # Limpiamos la caché de la GPU\n",
    "#  Generamos datos ficticios y los movemos al mismo dispositivo\n",
    "x = torch.randn(2000000, 10).to(device) # 2000000 muestras 10 features\n",
    "y = torch.randn(2000000, 1).to(device) # 2000000 muestras 1 feature\n",
    "torch.cuda.synchronize() # Sincronizamos la GPU antes de medir el tiempo"
   ]
  },
  {
   "cell_type": "code",
   "execution_count": null,
   "metadata": {},
   "outputs": [],
   "source": [
    "start_time = time.time()\n",
    "\n",
    "# Entrenamiento\n",
    "model.train()\n",
    "optimizer.zero_grad() # Limpiamos los gradientes\n",
    "output = model(x) # Forward pass\n",
    "loss = criterion(output, y) # Calculamos la pérdida\n",
    "loss.backward() # Backward pass\n",
    "optimizer.step() # Actualizamos los pesos\n",
    "end_time = time.time()\n",
    "elapsed_time = end_time - start_time\n",
    "\n",
    "print(f\"Perdida: {loss.item()}\")\n",
    "print(f\"Tiempo de entrenamiento: {elapsed_time} segundos\")"
   ]
  }
 ],
 "metadata": {
  "kernelspec": {
   "display_name": "venv",
   "language": "python",
   "name": "python3"
  },
  "language_info": {
   "codemirror_mode": {
    "name": "ipython",
    "version": 3
   },
   "file_extension": ".py",
   "mimetype": "text/x-python",
   "name": "python",
   "nbconvert_exporter": "python",
   "pygments_lexer": "ipython3",
   "version": "3.13.7"
  }
 },
 "nbformat": 4,
 "nbformat_minor": 5
}
