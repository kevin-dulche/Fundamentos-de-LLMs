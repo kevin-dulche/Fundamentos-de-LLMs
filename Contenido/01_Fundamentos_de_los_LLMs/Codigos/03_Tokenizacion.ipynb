{
 "cells": [
  {
   "cell_type": "code",
   "execution_count": 1,
   "id": "89351d46",
   "metadata": {},
   "outputs": [
    {
     "name": "stdout",
     "output_type": "stream",
     "text": [
      "Requirement already satisfied: transformers in c:\\users\\kevin\\desktop\\fundamentos-de-llms\\venv\\lib\\site-packages (4.55.3)\n",
      "Requirement already satisfied: filelock in c:\\users\\kevin\\desktop\\fundamentos-de-llms\\venv\\lib\\site-packages (from transformers) (3.19.1)\n",
      "Requirement already satisfied: huggingface-hub<1.0,>=0.34.0 in c:\\users\\kevin\\desktop\\fundamentos-de-llms\\venv\\lib\\site-packages (from transformers) (0.34.4)\n",
      "Requirement already satisfied: numpy>=1.17 in c:\\users\\kevin\\desktop\\fundamentos-de-llms\\venv\\lib\\site-packages (from transformers) (2.3.2)\n",
      "Requirement already satisfied: packaging>=20.0 in c:\\users\\kevin\\desktop\\fundamentos-de-llms\\venv\\lib\\site-packages (from transformers) (25.0)\n",
      "Requirement already satisfied: pyyaml>=5.1 in c:\\users\\kevin\\desktop\\fundamentos-de-llms\\venv\\lib\\site-packages (from transformers) (6.0.2)\n",
      "Requirement already satisfied: regex!=2019.12.17 in c:\\users\\kevin\\desktop\\fundamentos-de-llms\\venv\\lib\\site-packages (from transformers) (2025.7.34)\n",
      "Requirement already satisfied: requests in c:\\users\\kevin\\desktop\\fundamentos-de-llms\\venv\\lib\\site-packages (from transformers) (2.32.5)\n",
      "Requirement already satisfied: tokenizers<0.22,>=0.21 in c:\\users\\kevin\\desktop\\fundamentos-de-llms\\venv\\lib\\site-packages (from transformers) (0.21.4)\n",
      "Requirement already satisfied: safetensors>=0.4.3 in c:\\users\\kevin\\desktop\\fundamentos-de-llms\\venv\\lib\\site-packages (from transformers) (0.6.2)\n",
      "Requirement already satisfied: tqdm>=4.27 in c:\\users\\kevin\\desktop\\fundamentos-de-llms\\venv\\lib\\site-packages (from transformers) (4.67.1)\n",
      "Requirement already satisfied: fsspec>=2023.5.0 in c:\\users\\kevin\\desktop\\fundamentos-de-llms\\venv\\lib\\site-packages (from huggingface-hub<1.0,>=0.34.0->transformers) (2025.7.0)\n",
      "Requirement already satisfied: typing-extensions>=3.7.4.3 in c:\\users\\kevin\\desktop\\fundamentos-de-llms\\venv\\lib\\site-packages (from huggingface-hub<1.0,>=0.34.0->transformers) (4.14.1)\n",
      "Requirement already satisfied: colorama in c:\\users\\kevin\\desktop\\fundamentos-de-llms\\venv\\lib\\site-packages (from tqdm>=4.27->transformers) (0.4.6)\n",
      "Requirement already satisfied: charset_normalizer<4,>=2 in c:\\users\\kevin\\desktop\\fundamentos-de-llms\\venv\\lib\\site-packages (from requests->transformers) (3.4.3)\n",
      "Requirement already satisfied: idna<4,>=2.5 in c:\\users\\kevin\\desktop\\fundamentos-de-llms\\venv\\lib\\site-packages (from requests->transformers) (3.10)\n",
      "Requirement already satisfied: urllib3<3,>=1.21.1 in c:\\users\\kevin\\desktop\\fundamentos-de-llms\\venv\\lib\\site-packages (from requests->transformers) (2.5.0)\n",
      "Requirement already satisfied: certifi>=2017.4.17 in c:\\users\\kevin\\desktop\\fundamentos-de-llms\\venv\\lib\\site-packages (from requests->transformers) (2025.8.3)\n"
     ]
    }
   ],
   "source": [
    "!pip install transformers"
   ]
  },
  {
   "cell_type": "code",
   "execution_count": 2,
   "id": "9e12c4b5",
   "metadata": {},
   "outputs": [],
   "source": [
    "from transformers import BertTokenizer"
   ]
  },
  {
   "cell_type": "code",
   "execution_count": 3,
   "id": "4d690767",
   "metadata": {},
   "outputs": [],
   "source": [
    "tokenizer = BertTokenizer.from_pretrained('bert-base-uncased')\n",
    "tokens = tokenizer.tokenize(\"Hola, cómo estas?\")"
   ]
  },
  {
   "cell_type": "code",
   "execution_count": 4,
   "id": "ef7f631e",
   "metadata": {},
   "outputs": [
    {
     "data": {
      "text/plain": [
       "['ho', '##la', ',', 'como', 'est', '##as', '?']"
      ]
     },
     "execution_count": 4,
     "metadata": {},
     "output_type": "execute_result"
    }
   ],
   "source": [
    "tokens"
   ]
  },
  {
   "cell_type": "code",
   "execution_count": 5,
   "id": "b85e772e",
   "metadata": {},
   "outputs": [],
   "source": [
    "import torch\n",
    "from transformers import BertModel\n",
    "\n",
    "model = BertModel.from_pretrained('bert-base-uncased')"
   ]
  },
  {
   "cell_type": "code",
   "execution_count": 6,
   "id": "770f76c6",
   "metadata": {},
   "outputs": [],
   "source": [
    "king_token_id = tokenizer.convert_tokens_to_ids(['king'])[0]\n",
    "king_embedding = model.embeddings.word_embeddings(torch.tensor([king_token_id]))\n",
    "\n",
    "man_token_id = tokenizer.convert_tokens_to_ids(['man'])[0]\n",
    "man_embedding = model.embeddings.word_embeddings(torch.tensor([man_token_id]))\n",
    "\n",
    "woman_token_id = tokenizer.convert_tokens_to_ids(['woman'])[0]\n",
    "woman_embedding = model.embeddings.word_embeddings(torch.tensor([woman_token_id]))\n",
    "\n",
    "queen_token_id = tokenizer.convert_tokens_to_ids(['queen'])[0]\n",
    "queen_embedding = model.embeddings.word_embeddings(torch.tensor([queen_token_id]))"
   ]
  },
  {
   "cell_type": "code",
   "execution_count": 7,
   "id": "96f486f5",
   "metadata": {},
   "outputs": [
    {
     "data": {
      "text/plain": [
       "torch.Size([1, 768])"
      ]
     },
     "execution_count": 7,
     "metadata": {},
     "output_type": "execute_result"
    }
   ],
   "source": [
    "king_embedding.shape"
   ]
  },
  {
   "cell_type": "code",
   "execution_count": 8,
   "id": "5b0d2fd4",
   "metadata": {},
   "outputs": [],
   "source": [
    "cos = torch.nn.CosineSimilarity()"
   ]
  },
  {
   "cell_type": "code",
   "execution_count": 9,
   "id": "f8821768",
   "metadata": {},
   "outputs": [
    {
     "name": "stdout",
     "output_type": "stream",
     "text": [
      "tensor(0.6469, grad_fn=<SelectBackward0>)\n"
     ]
    }
   ],
   "source": [
    "similarity = cos(king_embedding, queen_embedding)\n",
    "print(similarity[0])"
   ]
  },
  {
   "cell_type": "code",
   "execution_count": 10,
   "id": "f153d8fb",
   "metadata": {},
   "outputs": [
    {
     "name": "stdout",
     "output_type": "stream",
     "text": [
      "tensor(0.6469, grad_fn=<SelectBackward0>)\n"
     ]
    }
   ],
   "source": [
    "similarity = cos(king_embedding-man_embedding+woman_embedding, queen_embedding)\n",
    "print(similarity[0])"
   ]
  }
 ],
 "metadata": {
  "kernelspec": {
   "display_name": "venv",
   "language": "python",
   "name": "python3"
  },
  "language_info": {
   "codemirror_mode": {
    "name": "ipython",
    "version": 3
   },
   "file_extension": ".py",
   "mimetype": "text/x-python",
   "name": "python",
   "nbconvert_exporter": "python",
   "pygments_lexer": "ipython3",
   "version": "3.13.7"
  }
 },
 "nbformat": 4,
 "nbformat_minor": 5
}
